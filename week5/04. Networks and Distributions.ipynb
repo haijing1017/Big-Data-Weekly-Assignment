{
 "cells": [
  {
   "cell_type": "markdown",
   "metadata": {
    "deletable": true,
    "editable": true
   },
   "source": [
    "# Big Data And Society - Lab 4\n",
    "\n",
    "### Networks and Data Aggregation\n",
    "\n",
    "\n"
   ]
  },
  {
   "cell_type": "markdown",
   "metadata": {
    "deletable": true,
    "editable": true
   },
   "source": [
    "### 0. Networks Overview\n",
    "Real-world data can be represented through graphs. At the same time, analytical models have been developed to simulate and compare models with real-world networks, allowing us to abstract, simulate and identify specific conditions of the network in a controlled model. The understanding of the components and properties of the representation provides a useful roadmap for their use in developing their appropriate spatial representation.\n",
    "\n",
    "In mathematics, **graphs** are used to represent **networks**. A graph represents entities that can be connected with each other through pair-like links or **edges**. The objects represented in a graph are called **nodes**, and they represent the fundamental unit of graphs . **Nodes** can have a number of properties and are indivisible. The relationships between the nodes of a graph are specified by **edges**, or connections among nodes. In more complex graph representations, edges or relationships can be **directed** or **undirected**, where the relationship is symmetric or asymmetric. Similarly edges can be **weighted** according to discrete relationships.\n",
    "\n",
    "![IPython](images/Graph_theory_tree.jpg)\n",
    "\n",
    "Here, the nodes are represented by numbered circles, and the edges are the undirected lines connecting them.\n",
    "\n",
    "\n",
    "\n",
    "### Network Properties\n",
    "The organization of a network can be described based on its topology, or arrangement of nodes and edges. At the same time, a number of network properties that analyze the topological conditions of the network can be described. \n",
    "\n",
    "The network **Degree** is the number of edges that are incident on a node. Nodes with a higher degree are more connected to other nodes, and can become network hubs. Network **Paths** are a sequence of nodes in which each node is adjacent to the next one. The shortest path between two nodes is defined as the number of edges along the shortest path connecting them. Finally, the **Clustering Coefficient** is a description of the connectedness of the neighbors of a node.\n",
    "\n",
    "### Relationships Among Networks\n",
    "When describing networks through graph relationships it is possible to construct models of isolated networks, or models that can represent relationships among different sets or spatial layers. \n",
    "\n",
    "**Mono-partite Networks** are the simplest network representation. All the nodes of mono-partite networks are part of the same set of information. **Road networks** can be an example of mono-partite networks, where each node is road starting point or intersection with other road. \n",
    "\n",
    "**Mutli-partite Networks** are networks whose nodes can be divided into multiple independent sets or sublayers of information. In this representation, nodes from different networks can be  related to each other, constructing heterogeneous relationships among its nodes. For example, if we represent a social network we could map both the relationships between users, and the social posts each user has, combining two distinct sets of nodes. \n"
   ]
  },
  {
   "cell_type": "markdown",
   "metadata": {
    "deletable": true,
    "editable": true
   },
   "source": [
    "### 1. NetworkX\n",
    "[**NetworkX**](https://networkx.github.io/) is a Python library for representing graphs and networks. It contains `classes` for creating `graphs` and `digraphs`, and functions to calculate network properties such as `adjacency, degree, diameter, radius, center, betweenness`, etc. Additionally, it contains functionality for drawing **2D** and **3D** networks.\n",
    "\n",
    "First we need to import the libraries, and some of their components. **NetworkX**, Networkx contains many algorithms for common network computations. NetworkX wraps the mathematical components of a graph into a `dictionary` like syntax, exposing **nodes** and **edges** as `dictionaries`. Dictionaries allow the inclusion of metadata along with the network topology within the network structure. To install **NetworkX** on a terminal or the command line, run the following command:\n",
    "```\n",
    "pip install networkx\n",
    "```\n",
    "\n",
    "We will also be using [**Seaborn**](http://stanford.edu/~mwaskom/software/seaborn/api.html). Seaborn is a Python visualization library based on matplotlib. It provides a high-level interface for drawing attractive statistical graphics. It operates in a similar manner to **Matplotlib**, but creates more graphically appealing plots. \n",
    "\n",
    "For it to work properly, we also need to install ipywidgets. To install both, run the following commands:\n",
    "```\n",
    "pip install ipywidgets\n",
    "pip install seaborn\n",
    "```"
   ]
  },
  {
   "cell_type": "code",
   "execution_count": 3,
   "metadata": {
    "collapsed": false,
    "deletable": true,
    "editable": true
   },
   "outputs": [],
   "source": [
    "# Import some libraries\n",
    "import networkx as nx\n",
    "import matplotlib.pyplot as plt\n",
    "import numpy as np\n",
    "import pandas as pd\n",
    "\n",
    "# Import Seaborn\n",
    "import seaborn as sns\n",
    "\n",
    "\n",
    "# This allows plots to appear on the IPython notebook.\n",
    "%matplotlib inline "
   ]
  },
  {
   "cell_type": "markdown",
   "metadata": {
    "deletable": true,
    "editable": true
   },
   "source": [
    "The basic element of networkx is a network x [**Graph**](http://networkx.readthedocs.org/en/networkx-1.11/reference/classes.graph.html#networkx.Graph)"
   ]
  },
  {
   "cell_type": "code",
   "execution_count": 4,
   "metadata": {
    "collapsed": true,
    "deletable": true,
    "editable": true
   },
   "outputs": [],
   "source": [
    "# create an empty graph called G\n",
    "G = nx.Graph()"
   ]
  },
  {
   "cell_type": "markdown",
   "metadata": {
    "deletable": true,
    "editable": true
   },
   "source": [
    "### Add Nodes\n",
    "\n",
    "Next, we want to add some nodes to our graph. In this example, we are going to create a chart of DUSP faculty and their connections."
   ]
  },
  {
   "cell_type": "code",
   "execution_count": 7,
   "metadata": {
    "collapsed": false,
    "deletable": true,
    "editable": true
   },
   "outputs": [
    {
     "data": {
      "text/plain": [
       "{'Alan': {'last_name': 'Berger'},\n",
       " 'Carlo': {'last_name': 'Ratti'},\n",
       " 'Christopher': {'last_name': 'Zegras'},\n",
       " 'David': {'last_name': 'Hsu'},\n",
       " 'Dennis': {'last_name': 'Frenchman'},\n",
       " 'Eran': {'last_name': 'Ben-Joseph'},\n",
       " 'Eric': {'last_name': 'Klopfer'},\n",
       " 'James': {'last_name': 'Wescoat'},\n",
       " 'Jinhua': {'last_name': 'Zhao'},\n",
       " 'Joe': {'last_name': 'Ferreira'},\n",
       " 'Mariana': {'last_name': 'Arcaya'},\n",
       " 'Sarah': {'last_name': 'Williams'}}"
      ]
     },
     "execution_count": 7,
     "metadata": {},
     "output_type": "execute_result"
    }
   ],
   "source": [
    "# create lists of DUSP faculty names\n",
    "names = ['Sarah','Jinhua','Mariana','Eran','Alan','Joe','Dennis','David','Eric','Carlo','James','Christopher']\n",
    "last_names = ['Williams','Zhao','Arcaya','Ben-Joseph','Berger','Ferreira','Frenchman','Hsu','Klopfer','Ratti','Wescoat','Zegras']\n",
    "\n",
    "# add nodes to the graph representing people\n",
    "# the first argument in add_node is the name of the node (n) and you can add attributes\n",
    "for i in range(len(names)):\n",
    "    G.add_node(names[i], last_name=last_names[i])\n",
    "G.node\n",
    "# Accessing nodes and node data.\n",
    "#sarah_node = G.node['Sarah']\n",
    "#print(\"Sarah's Node: \" + str(sarah_node))\n",
    "#print(\"Sarah's Lastname: \"+ sarah_node['last_name'])"
   ]
  },
  {
   "cell_type": "markdown",
   "metadata": {
    "deletable": true,
    "editable": true
   },
   "source": [
    "Take a look at Sarahs node:"
   ]
  },
  {
   "cell_type": "code",
   "execution_count": 5,
   "metadata": {
    "collapsed": false,
    "deletable": true,
    "editable": true
   },
   "outputs": [
    {
     "data": {
      "text/plain": [
       "{'last_name': 'Williams'}"
      ]
     },
     "execution_count": 5,
     "metadata": {},
     "output_type": "execute_result"
    }
   ],
   "source": [
    "sarah_node"
   ]
  },
  {
   "cell_type": "markdown",
   "metadata": {
    "deletable": true,
    "editable": true
   },
   "source": [
    "We can add weights to nodes as well by adding another attribute to each note. This can perhaps be used to size the points in the nodes. Say we have a list of all of the weights for each faculty. We can iterate and add those to our nodes. In our iteration, we'll use the [Python zip](https://docs.python.org/3/library/functions.html#zip) function."
   ]
  },
  {
   "cell_type": "code",
   "execution_count": 8,
   "metadata": {
    "collapsed": false,
    "deletable": true,
    "editable": true
   },
   "outputs": [
    {
     "data": {
      "text/plain": [
       "{'Alan': {'last_name': 'Berger', 'weight': 200},\n",
       " 'Carlo': {'last_name': 'Ratti', 'weight': 450},\n",
       " 'Christopher': {'last_name': 'Zegras', 'weight': 100},\n",
       " 'David': {'last_name': 'Hsu', 'weight': 200},\n",
       " 'Dennis': {'last_name': 'Frenchman', 'weight': 550},\n",
       " 'Eran': {'last_name': 'Ben-Joseph', 'weight': 900},\n",
       " 'Eric': {'last_name': 'Klopfer', 'weight': 150},\n",
       " 'James': {'last_name': 'Wescoat', 'weight': 300},\n",
       " 'Jinhua': {'last_name': 'Zhao', 'weight': 100},\n",
       " 'Joe': {'last_name': 'Ferreira', 'weight': 700},\n",
       " 'Mariana': {'last_name': 'Arcaya', 'weight': 150},\n",
       " 'Sarah': {'last_name': 'Williams', 'weight': 350}}"
      ]
     },
     "execution_count": 8,
     "metadata": {},
     "output_type": "execute_result"
    }
   ],
   "source": [
    "weights = [350,100,150,900,200,700,550,200,150,450,300,100]\n",
    "\n",
    "for i,j in zip(names,weights):\n",
    "    G.node[i]['weight'] = j\n",
    "G.node"
   ]
  },
  {
   "cell_type": "markdown",
   "metadata": {},
   "source": [
    "Taking a look, we now see we've got a weight of 350 applied to the node. It is based on the location in the array."
   ]
  },
  {
   "cell_type": "code",
   "execution_count": 9,
   "metadata": {
    "collapsed": false,
    "deletable": true,
    "editable": true
   },
   "outputs": [
    {
     "data": {
      "text/plain": [
       "{'last_name': 'Williams', 'weight': 350}"
      ]
     },
     "execution_count": 9,
     "metadata": {},
     "output_type": "execute_result"
    }
   ],
   "source": [
    "sarah_node"
   ]
  },
  {
   "cell_type": "markdown",
   "metadata": {
    "deletable": true,
    "editable": true
   },
   "source": [
    "List our nodes:"
   ]
  },
  {
   "cell_type": "code",
   "execution_count": 7,
   "metadata": {
    "collapsed": false,
    "deletable": true,
    "editable": true
   },
   "outputs": [
    {
     "name": "stdout",
     "output_type": "stream",
     "text": [
      "('Sarah', {'last_name': 'Williams', 'weight': 350})\n",
      "('Jinhua', {'last_name': 'Zhao', 'weight': 100})\n",
      "('Mariana', {'last_name': 'Arcaya', 'weight': 150})\n",
      "('Eran', {'last_name': 'Ben-Joseph', 'weight': 900})\n",
      "('Alan', {'last_name': 'Berger', 'weight': 200})\n",
      "('Joe', {'last_name': 'Ferreira', 'weight': 700})\n",
      "('Dennis', {'last_name': 'Frenchman', 'weight': 550})\n",
      "('David', {'last_name': 'Hsu', 'weight': 200})\n",
      "('Eric', {'last_name': 'Klopfer', 'weight': 150})\n",
      "('Carlo', {'last_name': 'Ratti', 'weight': 450})\n",
      "('James', {'last_name': 'Wescoat', 'weight': 300})\n",
      "('Christopher', {'last_name': 'Zegras', 'weight': 100})\n"
     ]
    }
   ],
   "source": [
    "# View nodes\n",
    "for n in G.nodes_iter(data=True):\n",
    "    print(n)"
   ]
  },
  {
   "cell_type": "markdown",
   "metadata": {
    "deletable": true,
    "editable": true
   },
   "source": [
    "Adding edges among the nodes is very simple. It is also possible to create arbitrary properties on every node. We can even create a network using only edges, without even specifying the different nodes. "
   ]
  },
  {
   "cell_type": "code",
   "execution_count": 10,
   "metadata": {
    "collapsed": false,
    "deletable": true,
    "editable": true
   },
   "outputs": [
    {
     "name": "stdout",
     "output_type": "stream",
     "text": [
      "Sarah-Alan edge: {'weight': 7}\n"
     ]
    }
   ],
   "source": [
    "# note that there is a lot of freedom in providing edge metadata.\n",
    "# also, the relationships strengths are completely random.\n",
    "G.add_edge('Sarah','Jinhua',weight=1)\n",
    "G.add_edge('Sarah','Mariana',weight=2)\n",
    "G.add_edge('Sarah','Eran',weight=5)\n",
    "G.add_edge('Sarah','Alan',weight=7)\n",
    "G.add_edge('Sarah','Joe', weight=9)\n",
    "G.add_edge('Sarah','Dennis',weight=5)\n",
    "G.add_edge('Sarah','David',weight=10)\n",
    "G.add_edge('Sarah','Eric',weight=3)\n",
    "G.add_edge('Sarah','Carlo', weight=8)\n",
    "G.add_edge('Sarah','James',weight=5)\n",
    "\n",
    "G.add_edge('Carlo','Jinhua',weight=2)\n",
    "G.add_edge('Carlo','Eran',weight=10)\n",
    "G.add_edge('Carlo','Joe', weight=6)\n",
    "G.add_edge('Carlo','Dennis',weight=5)\n",
    "G.add_edge('Carlo','David',weight=8)\n",
    "G.add_edge('Carlo','Eric',weight=3)\n",
    "G.add_edge('Carlo','Sarah', weight=4)\n",
    "G.add_edge('Carlo','James',weight=9)\n",
    "G.add_edge('Carlo','Christopher',weight=3)\n",
    "\n",
    "G.add_edge('Joe','Jinhua',weight=2)\n",
    "G.add_edge('Joe','Mariana',weight=4)\n",
    "G.add_edge('Joe','Eran',weight=2)\n",
    "G.add_edge('Joe','Dennis',weight=5)\n",
    "G.add_edge('Joe','David',weight=3)\n",
    "G.add_edge('Joe','Eric',weight=1)\n",
    "G.add_edge('Joe','Sarah', weight=5)\n",
    "G.add_edge('Joe','Carlo',weight=2)\n",
    "G.add_edge('Joe','Christopher',weight=9)\n",
    "\n",
    "print(\"Sarah-Alan edge: \"+str(G['Sarah']['Alan']))"
   ]
  },
  {
   "cell_type": "code",
   "execution_count": 11,
   "metadata": {
    "collapsed": false,
    "deletable": true,
    "editable": true
   },
   "outputs": [
    {
     "data": {
      "text/plain": [
       "25"
      ]
     },
     "execution_count": 11,
     "metadata": {},
     "output_type": "execute_result"
    }
   ],
   "source": [
    "# View the number of edges\n",
    "G.number_of_edges()"
   ]
  },
  {
   "cell_type": "code",
   "execution_count": 12,
   "metadata": {
    "collapsed": false,
    "deletable": true,
    "editable": true
   },
   "outputs": [
    {
     "data": {
      "text/plain": [
       "[('Sarah', 'Jinhua'),\n",
       " ('Sarah', 'Mariana'),\n",
       " ('Sarah', 'Eran'),\n",
       " ('Sarah', 'Alan'),\n",
       " ('Sarah', 'Joe'),\n",
       " ('Sarah', 'Dennis'),\n",
       " ('Sarah', 'David'),\n",
       " ('Sarah', 'Eric'),\n",
       " ('Sarah', 'Carlo'),\n",
       " ('Sarah', 'James'),\n",
       " ('Jinhua', 'Carlo'),\n",
       " ('Jinhua', 'Joe'),\n",
       " ('Mariana', 'Joe'),\n",
       " ('Eran', 'Carlo'),\n",
       " ('Eran', 'Joe'),\n",
       " ('Joe', 'Carlo'),\n",
       " ('Joe', 'Dennis'),\n",
       " ('Joe', 'David'),\n",
       " ('Joe', 'Eric'),\n",
       " ('Joe', 'Christopher'),\n",
       " ('Dennis', 'Carlo'),\n",
       " ('David', 'Carlo'),\n",
       " ('Eric', 'Carlo'),\n",
       " ('Carlo', 'James'),\n",
       " ('Carlo', 'Christopher')]"
      ]
     },
     "execution_count": 12,
     "metadata": {},
     "output_type": "execute_result"
    }
   ],
   "source": [
    "# Retrieve the edges as a list\n",
    "G.edges()"
   ]
  },
  {
   "cell_type": "code",
   "execution_count": 13,
   "metadata": {
    "collapsed": false,
    "deletable": true,
    "editable": true
   },
   "outputs": [
    {
     "data": {
      "text/plain": [
       "['Carlo', 'Joe']"
      ]
     },
     "execution_count": 13,
     "metadata": {},
     "output_type": "execute_result"
    }
   ],
   "source": [
    "# View connections\n",
    "G.neighbors('Christopher')"
   ]
  },
  {
   "cell_type": "markdown",
   "metadata": {
    "deletable": true,
    "editable": true
   },
   "source": [
    "Of course, you probably won't add nodes and edges manually, but you can envision here how to load them."
   ]
  },
  {
   "cell_type": "code",
   "execution_count": 14,
   "metadata": {
    "collapsed": false,
    "deletable": true,
    "editable": true
   },
   "outputs": [],
   "source": [
    "# Add more faculty (nodes)\n",
    "additional_names = ['Justin','Phil']\n",
    "additional_last_names = ['Steil','Thompson']\n",
    "additional_weights = [40,50]\n",
    "\n",
    "for i in range(len(additional_names)):\n",
    "    G.add_node(additional_names[i], last_name=additional_last_names[i], weight=additional_weights[i])"
   ]
  },
  {
   "cell_type": "code",
   "execution_count": 15,
   "metadata": {
    "collapsed": false,
    "deletable": true,
    "editable": true,
    "scrolled": true
   },
   "outputs": [
    {
     "name": "stdout",
     "output_type": "stream",
     "text": [
      "('Sarah', {'last_name': 'Williams', 'weight': 350})\n",
      "('Jinhua', {'last_name': 'Zhao', 'weight': 100})\n",
      "('Mariana', {'last_name': 'Arcaya', 'weight': 150})\n",
      "('Eran', {'last_name': 'Ben-Joseph', 'weight': 900})\n",
      "('Alan', {'last_name': 'Berger', 'weight': 200})\n",
      "('Joe', {'last_name': 'Ferreira', 'weight': 700})\n",
      "('Dennis', {'last_name': 'Frenchman', 'weight': 550})\n",
      "('David', {'last_name': 'Hsu', 'weight': 200})\n",
      "('Eric', {'last_name': 'Klopfer', 'weight': 150})\n",
      "('Carlo', {'last_name': 'Ratti', 'weight': 450})\n",
      "('James', {'last_name': 'Wescoat', 'weight': 300})\n",
      "('Christopher', {'last_name': 'Zegras', 'weight': 100})\n",
      "('Justin', {'last_name': 'Steil', 'weight': 40})\n",
      "('Phil', {'last_name': 'Thompson', 'weight': 50})\n"
     ]
    }
   ],
   "source": [
    "# View nodes\n",
    "for n in G.nodes_iter(data=True):\n",
    "    print(n)"
   ]
  },
  {
   "cell_type": "code",
   "execution_count": 16,
   "metadata": {
    "collapsed": false,
    "deletable": true,
    "editable": true
   },
   "outputs": [],
   "source": [
    "# Add more edges\n",
    "more_faculty_relationships = [['Justin','Mariana',15],\n",
    "                            ['Joe','Phil',6],\n",
    "                            ['Joe','Justin',8],\n",
    "                            ['Phil','Christopher',5]]\n",
    "\n",
    "for i in more_faculty_relationships:\n",
    "    G.add_edge(i[0],i[1],weight=i[2])"
   ]
  },
  {
   "cell_type": "code",
   "execution_count": 17,
   "metadata": {
    "collapsed": false,
    "deletable": true,
    "editable": true
   },
   "outputs": [
    {
     "name": "stdout",
     "output_type": "stream",
     "text": [
      "('Sarah', 'Jinhua', {'weight': 1})\n",
      "('Sarah', 'Mariana', {'weight': 2})\n",
      "('Sarah', 'Eran', {'weight': 5})\n",
      "('Sarah', 'Alan', {'weight': 7})\n",
      "('Sarah', 'Joe', {'weight': 5})\n",
      "('Sarah', 'Dennis', {'weight': 5})\n",
      "('Sarah', 'David', {'weight': 10})\n",
      "('Sarah', 'Eric', {'weight': 3})\n",
      "('Sarah', 'Carlo', {'weight': 4})\n",
      "('Sarah', 'James', {'weight': 5})\n",
      "('Jinhua', 'Carlo', {'weight': 2})\n",
      "('Jinhua', 'Joe', {'weight': 2})\n",
      "('Mariana', 'Joe', {'weight': 4})\n",
      "('Mariana', 'Justin', {'weight': 15})\n",
      "('Eran', 'Carlo', {'weight': 10})\n",
      "('Eran', 'Joe', {'weight': 2})\n",
      "('Joe', 'Carlo', {'weight': 2})\n",
      "('Joe', 'Dennis', {'weight': 5})\n",
      "('Joe', 'David', {'weight': 3})\n",
      "('Joe', 'Eric', {'weight': 1})\n",
      "('Joe', 'Christopher', {'weight': 9})\n",
      "('Joe', 'Phil', {'weight': 6})\n",
      "('Joe', 'Justin', {'weight': 8})\n",
      "('Dennis', 'Carlo', {'weight': 5})\n",
      "('David', 'Carlo', {'weight': 8})\n",
      "('Eric', 'Carlo', {'weight': 3})\n",
      "('Carlo', 'James', {'weight': 9})\n",
      "('Carlo', 'Christopher', {'weight': 3})\n",
      "('Christopher', 'Phil', {'weight': 5})\n"
     ]
    }
   ],
   "source": [
    "# View edges\n",
    "for n in G.edges_iter(data=True):\n",
    "    print(n)"
   ]
  },
  {
   "cell_type": "markdown",
   "metadata": {
    "deletable": true,
    "editable": true
   },
   "source": [
    "### Drawing the Graph"
   ]
  },
  {
   "cell_type": "markdown",
   "metadata": {
    "deletable": true,
    "editable": true
   },
   "source": [
    "The primary purpose of NetworkX is not actually plots, it is designed for network logic (you will probably want to use D3js once we get our networks made for visualization!), however it does use matplotlib's functions to create its plots. It has built a wrapper around matplotlib's api. We can still control some specifics of the plot, like the figure size, using matplotlib's functions.\n",
    "\n",
    "We will be working with networkx's [**draw API**](http://networkx.readthedocs.org/en/networkx-1.11/reference/generated/networkx.drawing.nx_pylab.draw.html#networkx.drawing.nx_pylab.draw). When drawing networks, we can provide the position of the nodes ourselves, or we can use some of the [**built-in layouts**](http://networkx.readthedocs.org/en/networkx-1.11/reference/drawing.html#module-networkx.drawing.layout)."
   ]
  },
  {
   "cell_type": "markdown",
   "metadata": {
    "deletable": true,
    "editable": true
   },
   "source": [
    "#### 1. Get Node Sizes and Edge Widths\n",
    "\n",
    "We need two arrays, one for edge widths, and one for node sizes. Let's set those up."
   ]
  },
  {
   "cell_type": "code",
   "execution_count": 18,
   "metadata": {
    "collapsed": false,
    "deletable": true,
    "editable": true
   },
   "outputs": [
    {
     "data": {
      "text/plain": [
       "[350, 100, 150, 900, 200, 700, 550, 200, 150, 450, 300, 100, 40, 50]"
      ]
     },
     "execution_count": 18,
     "metadata": {},
     "output_type": "execute_result"
    }
   ],
   "source": [
    "# Get a list of weights\n",
    "weights=nx.get_node_attributes(G,'weight')\n",
    "weights_list=list(weights.values())\n",
    "weights_list"
   ]
  },
  {
   "cell_type": "code",
   "execution_count": 19,
   "metadata": {
    "collapsed": false,
    "deletable": true,
    "editable": true,
    "scrolled": true
   },
   "outputs": [
    {
     "data": {
      "text/plain": [
       "[1,\n",
       " 2,\n",
       " 5,\n",
       " 7,\n",
       " 5,\n",
       " 5,\n",
       " 10,\n",
       " 3,\n",
       " 4,\n",
       " 5,\n",
       " 2,\n",
       " 2,\n",
       " 4,\n",
       " 15,\n",
       " 10,\n",
       " 2,\n",
       " 2,\n",
       " 5,\n",
       " 3,\n",
       " 1,\n",
       " 9,\n",
       " 6,\n",
       " 8,\n",
       " 5,\n",
       " 8,\n",
       " 3,\n",
       " 9,\n",
       " 3,\n",
       " 5]"
      ]
     },
     "execution_count": 19,
     "metadata": {},
     "output_type": "execute_result"
    }
   ],
   "source": [
    "# Get a list of edge widths for relationship strength\n",
    "width=nx.get_edge_attributes(G,'weight')\n",
    "width_list=list(width.values())\n",
    "width_list"
   ]
  },
  {
   "cell_type": "code",
   "execution_count": 20,
   "metadata": {
    "collapsed": false,
    "deletable": true,
    "editable": true
   },
   "outputs": [
    {
     "data": {
      "image/png": "[encoded data removed]",
      "text/plain": [
       "<matplotlib.figure.Figure at 0x1a90b9f0358>"
      ]
     },
     "metadata": {},
     "output_type": "display_data"
    }
   ],
   "source": [
    "plt.figure(figsize=(15,10));\n",
    "\n",
    "pos=nx.spring_layout(G) # positions for all nodes, try circular_layout, fruchterman_reingold_layout, or spectral_layout\n",
    "\n",
    "# nodes\n",
    "nx.draw_networkx_nodes(G, pos, node_size=weights_list, node_color=\"#6a7787\")\n",
    "\n",
    "# edges\n",
    "nx.draw_networkx_edges(G, pos, width=width_list, edge_color='#bbac81')\n",
    "\n",
    "# labels\n",
    "nx.draw_networkx_labels(G, pos)\n",
    "\n",
    "plt.axis('off')\n",
    "plt.savefig(\"weighted_graph.png\") # save as png\n",
    "plt.show() # display"
   ]
  },
  {
   "cell_type": "markdown",
   "metadata": {
    "deletable": true,
    "editable": true
   },
   "source": [
    "Accessing different network properties is very simple. Additionaly, NetworkX implements a number of network analysis algorithms such as centrality. The **degree distribution** is a 'thumb-print' that allows us to understand the structure and dynamics of a networked system."
   ]
  },
  {
   "cell_type": "code",
   "execution_count": 21,
   "metadata": {
    "collapsed": false,
    "deletable": true,
    "editable": true
   },
   "outputs": [
    {
     "name": "stdout",
     "output_type": "stream",
     "text": [
      "All degrees: {'Sarah': 10, 'Jinhua': 3, 'Mariana': 3, 'Eran': 3, 'Alan': 1, 'Joe': 11, 'Dennis': 3, 'David': 3, 'Eric': 3, 'Carlo': 9, 'James': 2, 'Christopher': 3, 'Justin': 2, 'Phil': 2}\n",
      "1\n",
      "Number of faculty one degree from Mariana: 3\n"
     ]
    }
   ],
   "source": [
    "degrees = nx.degree(G)\n",
    "print(\"All degrees: \"+str(degrees))\n",
    "print(degrees['Alan'])\n",
    "print(\"Number of faculty one degree from Mariana: \"+str(G.degree('Mariana')))\n",
    "D = list(degrees.values())"
   ]
  },
  {
   "cell_type": "markdown",
   "metadata": {
    "deletable": true,
    "editable": true
   },
   "source": [
    "**NetworkX** has a number of plotting functions built-in. Apart from drawing nodes and edges, a number of the objects returned by the network functions are `numpy.arrays`, `dicts` or `lists` that can be easily passed to a **Matplotlib** function to represent them. While we are still using matplotlib to create the plots, we can use seaborn (sns) to improve the graphic style of the plots. By setting the [**style**](http://stanford.edu/~mwaskom/software/seaborn/generated/seaborn.set_style.html) of the plot, we have a choice to use some of seaborn's available style's. "
   ]
  },
  {
   "cell_type": "code",
   "execution_count": 22,
   "metadata": {
    "collapsed": false,
    "deletable": true,
    "editable": true
   },
   "outputs": [
    {
     "name": "stdout",
     "output_type": "stream",
     "text": [
      "[10, 3, 3, 3, 1, 11, 3, 3, 3, 9, 2, 3, 2, 2]\n"
     ]
    },
    {
     "data": {
      "image/png": "[encoded data removed]",
      "text/plain": [
       "<matplotlib.figure.Figure at 0x1a90bda5630>"
      ]
     },
     "metadata": {},
     "output_type": "display_data"
    }
   ],
   "source": [
    "sns.set_style(\"whitegrid\")\n",
    "plt.figure()\n",
    "print(D)\n",
    "\n",
    "# We will be plotting the Degrees, that we stored in variable D\n",
    "plt.hist(D,bins=[0,1,2,3,4,5,6,7,8,9,10,11,12], facecolor='green', alpha=0.75)\n",
    "plt.xlabel('Number of First Degree Connections')\n",
    "plt.ylabel('Number of Faculty')\n",
    "plt.title('DUSP Explorer Degree Distribution')\n",
    "# Answer:\n",
    "# As n gets large, degree dist is a Poisson distribution.\n",
    "plt.show()"
   ]
  },
  {
   "cell_type": "code",
   "execution_count": null,
   "metadata": {
    "collapsed": true
   },
   "outputs": [],
   "source": []
  }
 ],
 "metadata": {
  "kernelspec": {
   "display_name": "Python 3",
   "language": "python",
   "name": "python3"
  },
  "language_info": {
   "codemirror_mode": {
    "name": "ipython",
    "version": 3
   },
   "file_extension": ".py",
   "mimetype": "text/x-python",
   "name": "python",
   "nbconvert_exporter": "python",
   "pygments_lexer": "ipython3",
   "version": "3.6.0"
  }
 },
 "nbformat": 4,
 "nbformat_minor": 0
}
