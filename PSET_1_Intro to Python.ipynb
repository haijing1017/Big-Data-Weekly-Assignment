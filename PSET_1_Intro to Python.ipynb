{
 "cells": [
  {
   "cell_type": "code",
   "execution_count": null,
   "metadata": {
    "collapsed": true
   },
   "outputs": [],
   "source": [
    "# Problem Set 1: Intro to Python\n",
    "This problem set is meant to create a good foundation of programming. We emphasize code readability and reusability over performance. Code performance can be measured in many different ways, and is by no means the focus of this course, however, we expect your code to be non-repetitive, clean, and efficient enough to deal with medium-to-large datasets. As we move forward with the course, you will be introduced to some functional programming techniques, iterators, and objects that will help speed-up the data munging of the type of data sets that we will be dealing with. \n",
    "\n",
    "`Throughout the course you will be using multiple online resources to help you solve the assignments, we do too. However, if you are using other people’s code, make sure to credit the source, and come up with your own implementation. In this problem set, you are welcome to refer to online resources and documentation. One of the primary ones you will find you use is:` [Stack Overflow]( http://stackoverflow.com/)."
   ]
  },
  {
   "cell_type": "markdown",
   "metadata": {},
   "source": [
    "## 1. Lists\n",
    "Do the following:\n",
    "1. Create a list containing any 4 strings.\n",
    "2. Print the 3rd item in the list\n",
    "3. Print the 1st and 2nd item in the list using [:] index slicing.\n",
    "4. Add a new string with text “last” to the end of the list and print the list.\n",
    "5. Get the list length and print it.\n",
    "6. Replace the last item in the list with the string “new” and print\n"
   ]
  },
  {
   "cell_type": "code",
   "execution_count": 18,
   "metadata": {
    "collapsed": false
   },
   "outputs": [
    {
     "name": "stdout",
     "output_type": "stream",
     "text": [
      "python\n",
      "['I', 'love']\n",
      "['I', 'love', 'python', 'too', 'last']\n",
      "5\n",
      "['I', 'love', 'python', 'too', 'new']\n"
     ]
    }
   ],
   "source": [
    "L=[\"I\",\"love\",\"python\",\"too\"]\n",
    "print (L[2])\n",
    "print (L[0:2])\n",
    "L.append(\"last\")\n",
    "print (L)\n",
    "print(len(L))\n",
    "L[-1]=\"new\"\n",
    "print(L)"
   ]
  },
  {
   "cell_type": "markdown",
   "metadata": {},
   "source": [
    "## 2. Strings \n",
    "Given the following list of words:\n",
    "```Python\n",
    "list1=['I', 'am', 'learning','Python','to','munge','large','datasets','and','visualize','them']\n",
    "```\n",
    "1. Convert the list into a normal sentence with [`join()`](https://docs.python.org/2/library/stdtypes.html#str.join), then print.\n",
    "2. [**Reverse**](https://docs.python.org/release/2.3.5/whatsnew/section-slices.html) the order of this list `[“them”,”visualize”,…]`\n",
    "3. Now [**sort**](https://docs.python.org/2/library/functions.html#sorted) the list using the default sort order in python\n",
    "4. Modify the sort to do a case [**insensitive**](http://matthiaseisen.com/pp/patterns/p0005/) alphabetic sort\n",
    "5. Now print the list in reverse alphabetic sort order\n"
   ]
  },
  {
   "cell_type": "code",
   "execution_count": 33,
   "metadata": {
    "collapsed": false
   },
   "outputs": [
    {
     "name": "stdout",
     "output_type": "stream",
     "text": [
      "I am learning Python to munge large datasets and visualize them\n",
      "['them', 'visualize', 'and', 'datasets', 'large', 'munge', 'to', 'Python', 'learning', 'am', 'I']\n",
      "['I', 'Python', 'am', 'and', 'datasets', 'large', 'learning', 'munge', 'them', 'to', 'visualize']\n",
      "['visualize', 'to', 'them', 'Python', 'munge', 'learning', 'large', 'I', 'datasets', 'and', 'am']\n"
     ]
    }
   ],
   "source": [
    "list1=['I', 'am', 'learning','Python','to','munge','large','datasets','and','visualize','them']\n",
    "print (\" \".join(list1))\n",
    "print(list1[::-1])\n",
    "print(sorted(list1))\n",
    "list2=sorted(list1,key=str.lower)\n",
    "print(list2[::-1])\n"
   ]
  },
  {
   "cell_type": "markdown",
   "metadata": {},
   "source": [
    "## 3. Random Function\n",
    "Here is a python snippet for generating a random integer:\n",
    "\n",
    "```Python\n",
    "import random\n",
    "# this returns random integer: 100 <= number <= 1000 \n",
    "num = random.randint(100, 1000)\n",
    "```\n",
    "\n",
    "* Implement your own random function that builds on this python function, returning an integer between a low and a high number supplied by the user, but that can be called with the low number optional (default to 0).\n",
    "\n",
    "* Test your function by adding the following 2 assert statements to your file (replace myrandom and low with the names you used). The [`assert`](https://docs.python.org/2/reference/simple_stmts.html#assert) statement helps you debug, by testing if a statement is true. \n",
    "\n",
    "```Python\n",
    "assert(0 <= myrandom(100) <= 100)\n",
    "assert(50 <= myrandom(100,low=50) <= 100)\n",
    "```\n",
    "\n",
    "\n",
    "1. Inputs: \n",
    "  1. Two `integers` that will be used as lower and upper bounds of the function. \n",
    "2. Outputs: \n",
    "  1. A random number within the established bounds. "
   ]
  },
  {
   "cell_type": "code",
   "execution_count": 2,
   "metadata": {
    "collapsed": false
   },
   "outputs": [
    {
     "name": "stdout",
     "output_type": "stream",
     "text": [
      "100\n",
      "\n",
      "30\n"
     ]
    }
   ],
   "source": [
    "x=int(input())\n",
    "low=input()\n",
    "if low==\"\":\n",
    "    low=0\n",
    "else:\n",
    "    low=int(input())\n",
    "\n",
    "import random\n",
    "def myrandom(x,low=0):\n",
    "    \n",
    "    if x<low:\n",
    "        num = random.randint(x,low)\n",
    "    else:\n",
    "        num = random.randint(low,x)\n",
    "    return num\n",
    "\n",
    "print(myrandom(x,low))"
   ]
  },
  {
   "cell_type": "markdown",
   "metadata": {},
   "source": [
    "## 4. String Formatting Function \n",
    "Write a function that expects 2 inputs from the command line. The first is a title that may be multiple words, the second is a number. Given these inputs print the following string (replacing N and Title with the dynamic values passed in to the script each time it runs).\n",
    "\n",
    "`The number N bestseller today is: Title` \n",
    "\n",
    "* If not already title-cased, the function should **title-case** the string. \n",
    "* Build one function making the first input optional (keeping the 2nd required).\n",
    "* Build another function making the second input optional (keeping the 1st required).\n",
    "* Build a third function making both inputs optional.\n"
   ]
  },
  {
   "cell_type": "code",
   "execution_count": 2,
   "metadata": {
    "collapsed": false
   },
   "outputs": [
    {
     "name": "stdout",
     "output_type": "stream",
     "text": [
      "3\n",
      "\n"
     ]
    }
   ],
   "source": [
    "def res1(num,title=\"Title\"):\n",
    "    return (\"The number \"+str(num)+\" bestseller today is: \"+title.title())\n",
    "\n",
    "def res2(title,num=0):\n",
    "    return (\"The number \"+str(num)+\" bestseller today is: \"+title.title())\n",
    "\n",
    "def res3(title=\"Title\",num=0):\n",
    "    return (\"The number \"+str(num)+\" bestseller today is: \"+title.title())\n"
   ]
  },
  {
   "cell_type": "code",
   "execution_count": null,
   "metadata": {
    "collapsed": true
   },
   "outputs": [],
   "source": [
    "# 5. Password Validation Function \n",
    "Write a password validation function. Ask the user to input a password that meets the criteria listed below. You can either use the **Python** [`input`](https://docs.python.org/3/library/functions.html#input) built-in function, or just pass the password as a function argument. Validate that the user’s password matches this criteria. After 3 bad tries, quit with an error message. If password is valid, print a helpful success message.\n",
    "\n",
    "* password length must be 8-14 characters\n",
    "* password must contain at least 2 digits\n",
    "* password must contain at least 1 uppercase letter\n",
    "* password must contain at least 1 special character from this set !@#$%^&*()-_+=\n",
    "\n",
    "\n",
    "\n",
    "1. Inputs: \n",
    "  1. A `string` that will be tested for the password requirements. The string can be passed as an argument to the function, or as an input through the `input` function.\n",
    "2. Outputs: \n",
    "  1. A **success** message if the password works, otherwise an **error** message. \n"
   ]
  },
  {
   "cell_type": "code",
   "execution_count": 1,
   "metadata": {
    "collapsed": true
   },
   "outputs": [],
   "source": [
    "def test(string):\n",
    "    if 8<=len(string)<=14:\n",
    "        i=0\n",
    "        di=0\n",
    "        up=0\n",
    "        sp=0\n",
    "        for i in range(len(string)):            \n",
    "            \n",
    "            if string[i].isdigit():\n",
    "                di+=1\n",
    "            if string[i].isupper():\n",
    "                up+=1\n",
    "            if string[i] in \"!@#$%^&*()-_+=\":\n",
    "                sp+=1\n",
    "            i+=1\n",
    "            \n",
    "        \n",
    "        if di>=2 and up>=1 and sp>=1:\n",
    "            return \"success\"\n",
    "        else:\n",
    "            return \"error\"\n",
    "    else:\n",
    "        return\"error\""
   ]
  },
  {
   "cell_type": "markdown",
   "metadata": {},
   "source": [
    "## 6. Exponentiation Function\n",
    "Create a function called **exp** that asks for two digits and then prints an exponentiation, without using the exponentiation operator (`**`). You may assume these are positive integers. Use at least one custom-defined function.\n",
    "\n",
    "For example, some outputs of this function could be:\n",
    "* 2 , 3 => 8\n",
    "* 5 , 4 => 625\n",
    "\n",
    "1. Inputs: \n",
    "  1. An `integer` that will be recursively multiplied\n",
    "  2. An `integer` that will define the number of times to multiply the number to get the exponentiation.\n",
    "2. Outputs: \n",
    "  1. An `integer` that is the result of the exponentiation. \n",
    "\n",
    "`Hint: You can recursively multiply a number. The second number defines the number of times the recursive loop happens. Every time the loop happens, you can redefine the variable that gets multiplied.` "
   ]
  },
  {
   "cell_type": "code",
   "execution_count": 2,
   "metadata": {
    "collapsed": true
   },
   "outputs": [],
   "source": [
    "def expo(base,index):\n",
    "    result=1\n",
    "    for i in range(index):\n",
    "        result=result*base\n",
    "    return result"
   ]
  },
  {
   "cell_type": "markdown",
   "metadata": {},
   "source": [
    "## 7. Min and Max Functions (Bonus)\n",
    "\n",
    "EXTRA CREDIT\n",
    "\n",
    "Write your own versions of the Python built-in functions **min** and **max**. They should take a list as an argument and return the minimum or maximum element. Assume lists contain numeric items only. \n",
    "\n",
    "1. Inputs: \n",
    "  1. A `list` of `numbers` to be tested. \n",
    "2. Outputs: \n",
    "  1. A `number` of the list that is the maximum or minimum. \n",
    "\n",
    "`Hint: Pick the first element as the minimum(maximum) and then loop through the elements to find a smaller(larger) element. Each time you find a smaller (larger) element, update your minimum (maximum).`"
   ]
  },
  {
   "cell_type": "code",
   "execution_count": null,
   "metadata": {
    "collapsed": false
   },
   "outputs": [],
   "source": [
    "def min(list):\n",
    "    min=list[0]\n",
    "    for i in range(len(list)):\n",
    "        if list[i]<min:\n",
    "            min=list[i]\n",
    "        i=i+1\n",
    "    return min\n",
    "def max(list):\n",
    "    max=list[0]\n",
    "    for i in range(len(list)):\n",
    "        if list[i]>max:\n",
    "            max=list[i]\n",
    "        i=i+1\n",
    "    return max    "
   ]
  },
  {
   "cell_type": "markdown",
   "metadata": {},
   "source": [
    "## 8. Hangman Game (Bonus)\n",
    "\n",
    "EXTRA CREDIT\n",
    "\n",
    "Implement a basic hangman game through functions.\n",
    "* Show a user the word or phrase (5-15 letters) that they have to guess with dashes as placeholders for unsolved letters. You can hardcode this word into your source.\n",
    "* Prompt the user to guess a letter or solve the puzzle through the user [`input`](https://docs.python.org/2/library/functions.html#input) function. They get up to 8 guesses. After each guess, show the word with any instances of correctly guessed letters filled in. Show the number of tries left. Handle possible issues with user input in a consistent way.\n",
    "* Continue to prompt the user until either they’ve used up their 8 guesses or solved.\n",
    "* If they solve the puzzle in time, show the completed word and a congratulatory message.\n",
    "* If they fail to solve the puzzle, show the completed word and a Game Over message.\n",
    "\n",
    "\n",
    "Here’s a sample transcript.\n",
    "> You have 8 guesses to solve this word. \n",
    "\n",
    ">------------------------------------------   \n",
    "\n",
    ">guess a letter or solve: b \n",
    "\n",
    ">b--b--b--  (7 tries left) \n",
    "\n",
    ">guess a letter or solve: x \n",
    "\n",
    ">b--b--b--  (6 tries left) \n",
    "\n",
    ">guess a letter or solve: e \n",
    "\n",
    ">b--b-ebee  (5 tries left) \n",
    "\n",
    ">guess a letter or solve: bumblebee \n",
    "\n",
    ">bumblebee  (4 tries left) \n",
    "\n",
    ">Congratulations, you won!\n",
    "\n",
    "1. Inputs: \n",
    "  1. A `string` that will be tested to see whether or not it is part of the secret word. \n",
    "2. Outputs: \n",
    "  1. A message that shows the user the number of guessed letters at the time.\n",
    "  2. A **success** message if the user wins, otherwise a **try again** message. \n"
   ]
  },
  {
   "cell_type": "code",
   "execution_count": null,
   "metadata": {
    "collapsed": false
   },
   "outputs": [
    {
     "name": "stdout",
     "output_type": "stream",
     "text": [
      "guess a letter or solve: \n",
      "a\n",
      "---------(7 tries left)\n",
      "guess a letter or solve: \n",
      "b\n",
      "b--b--b--(6 tries left)\n",
      "guess a letter or solve: \n",
      "d\n",
      "b--b--b--(5 tries left)\n",
      "guess a letter or solve: \n",
      "e\n",
      "b--b-ebee(4 tries left)\n",
      "guess a letter or solve: \n",
      "l\n",
      "b--blebee(3 tries left)\n",
      "guess a letter or solve: \n",
      "dksldjfk\n",
      "b--blebee(2 tries left)\n",
      "guess a letter or solve: \n",
      "mgmfkd\n",
      "b-mblebee(1 tries left)\n",
      "guess a letter or solve: \n",
      "q\n",
      "b-mblebee(0 tries left)\n",
      "GAME OVER\n",
      "ANSWER bumblebee\n"
     ]
    }
   ],
   "source": [
    "target=\"bumblebee\"\n",
    "count=8\n",
    "left=8\n",
    "temp=list(\"---------\")\n",
    "while left>0:\n",
    "    print(\"guess a letter or solve: \")\n",
    "    test=input()\n",
    "    for j in range(len(test)):\n",
    "        for i in range(len(target)):\n",
    "            if test[j]==target[i]:\n",
    "              temp[i]=test[j]      \n",
    "    left=left-1   \n",
    "    print(\"\".join(temp)+\"(\"+str(left)+\" tries left)\")\n",
    "    if \"-\" not in temp:\n",
    "        print(\"Congradulations, you won!\")\n",
    "        break\n",
    "    \n",
    "if left==0:\n",
    "    print(\"GAME OVER\")\n",
    "    print(\"ANSWER \"+target)"
   ]
  },
  {
   "cell_type": "code",
   "execution_count": null,
   "metadata": {
    "collapsed": true
   },
   "outputs": [],
   "source": []
  }
 ],
 "metadata": {
  "kernelspec": {
   "display_name": "Python 3",
   "language": "python",
   "name": "python3"
  },
  "language_info": {
   "codemirror_mode": {
    "name": "ipython",
    "version": 3
   },
   "file_extension": ".py",
   "mimetype": "text/x-python",
   "name": "python",
   "nbconvert_exporter": "python",
   "pygments_lexer": "ipython3",
   "version": "3.6.0"
  }
 },
 "nbformat": 4,
 "nbformat_minor": 0
}
